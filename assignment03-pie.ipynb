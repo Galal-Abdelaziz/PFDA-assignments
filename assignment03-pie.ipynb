{
 "cells": [
  {
   "cell_type": "markdown",
   "metadata": {},
   "source": [
    "# Weekly Assignment 03\n",
    "\n",
    "Author: Galal Abdelaziz\n",
    "\n",
    "File Name: assignment03-pie.ipynb\n",
    "\n",
    "Task: Create a jupyter notebook that have a pie chart of people's email domains in the csv file at the url\n",
    "\n",
    "https://drive.google.com/uc?id=1AWPf-pJodJKeHsARQK_RHiNsE8fjPCVK&export=download"
   ]
  }
 ],
 "metadata": {
  "language_info": {
   "name": "python"
  }
 },
 "nbformat": 4,
 "nbformat_minor": 2
}
